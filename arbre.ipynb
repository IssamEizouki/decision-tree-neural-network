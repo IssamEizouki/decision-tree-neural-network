{
  "nbformat": 4,
  "nbformat_minor": 0,
  "metadata": {
    "colab": {
      "name": "projet.ipynb",
      "provenance": [],
      "collapsed_sections": []
    },
    "kernelspec": {
      "name": "python3",
      "display_name": "Python 3"
    },
    "language_info": {
      "name": "python"
    }
  },
  "cells": [
    {
      "cell_type": "code",
      "execution_count": 18,
      "metadata": {
        "id": "tt9v3p07NqLU",
        "colab": {
          "resources": {
            "http://localhost:8080/nbextensions/google.colab/files.js": {
              "data": "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",
              "ok": true,
              "headers": [
                [
                  "content-type",
                  "application/javascript"
                ]
              ],
              "status": 200,
              "status_text": ""
            }
          },
          "base_uri": "https://localhost:8080/",
          "height": 543
        },
        "outputId": "0dfb4aa1-213e-4231-9cc0-fe16a82edd5d"
      },
      "outputs": [
        {
          "output_type": "display_data",
          "data": {
            "text/plain": [
              "<IPython.core.display.HTML object>"
            ],
            "text/html": [
              "\n",
              "     <input type=\"file\" id=\"files-4231392f-8d24-41e9-997e-944b408f0d46\" name=\"files[]\" multiple disabled\n",
              "        style=\"border:none\" />\n",
              "     <output id=\"result-4231392f-8d24-41e9-997e-944b408f0d46\">\n",
              "      Upload widget is only available when the cell has been executed in the\n",
              "      current browser session. Please rerun this cell to enable.\n",
              "      </output>\n",
              "      <script src=\"/nbextensions/google.colab/files.js\"></script> "
            ]
          },
          "metadata": {}
        },
        {
          "output_type": "stream",
          "name": "stdout",
          "text": [
            "Saving synthetic.csv to synthetic.csv\n"
          ]
        },
        {
          "output_type": "execute_result",
          "data": {
            "text/plain": [
              "         Attr_A     Attr_B       Attr_C      Attr_D      Attr_E       Attr_F  \\\n",
              "0     12.478064  14.784992  1247.541877  100.962061   52.462177  1089.398211   \n",
              "1      8.264345   8.854181  1389.686814   99.526529   65.106526  1186.523399   \n",
              "2      9.875571  13.292442   779.077401  123.993772  104.699796  1201.722480   \n",
              "3      9.207661   9.346913   965.468523   89.176009  102.628284   743.913507   \n",
              "4      8.863842  12.542969  1096.386230  106.595385  131.813380   883.059615   \n",
              "...         ...        ...          ...         ...         ...          ...   \n",
              "2293   8.537905   9.384823  1327.744849  105.043442  109.078735  1160.837366   \n",
              "2294  10.727881  12.758686  1017.495424  103.388471   65.953337   955.265960   \n",
              "2295   9.501612  12.449207   934.067397   94.681564  108.414931  1097.411669   \n",
              "2296  11.581467  12.024253  1247.894013   95.732086   85.265126  1012.536672   \n",
              "2297  10.970207  10.507666  1074.743064   90.878067   88.297209   873.712952   \n",
              "\n",
              "         Attr_G     Attr_H     Attr_I      Attr_J       Attr_K     Attr_L  \\\n",
              "0     10.575834   8.375407  10.288159  110.746551   994.367610   9.069350   \n",
              "1      9.500485  10.088058   9.371983   78.210274   943.089589   9.988919   \n",
              "2      9.545266  14.266238   9.703551   86.252483  1082.989190  10.084217   \n",
              "3      9.777953  11.613946   8.912059   96.727873   812.800511   8.621781   \n",
              "4     10.092974  13.556029  11.649982   21.566576   971.083175  10.072271   \n",
              "...         ...        ...        ...         ...          ...        ...   \n",
              "2293  10.054976   6.461691   9.718114  146.371553  1057.578998   9.504676   \n",
              "2294  11.040854   5.930806   9.690326   92.318732   960.311986   9.262439   \n",
              "2295  11.379111  12.178924   9.161475   63.980205   972.994510   7.685836   \n",
              "2296   9.972115   9.001799  11.909924  128.966934   927.437658   8.906923   \n",
              "2297   8.725803  14.736636   9.540957   64.366739  1052.481370   8.576282   \n",
              "\n",
              "           Attr_M      Attr_N  Class  \n",
              "0     1027.953917  109.672758      1  \n",
              "1     1120.317724   83.498764      3  \n",
              "2      970.953682   93.557046      2  \n",
              "3      947.207195  120.890054      3  \n",
              "4     1007.583900  149.511979      2  \n",
              "...           ...         ...    ...  \n",
              "2293   896.830168   50.119576      1  \n",
              "2294  1158.151512  110.854719      1  \n",
              "2295   996.569164   89.850887      0  \n",
              "2296   891.006210   93.561794      1  \n",
              "2297   823.674907   69.743754      0  \n",
              "\n",
              "[2298 rows x 15 columns]"
            ],
            "text/html": [
              "\n",
              "  <div id=\"df-65944a12-f179-4a65-89df-a8ba6f7d5afe\">\n",
              "    <div class=\"colab-df-container\">\n",
              "      <div>\n",
              "<style scoped>\n",
              "    .dataframe tbody tr th:only-of-type {\n",
              "        vertical-align: middle;\n",
              "    }\n",
              "\n",
              "    .dataframe tbody tr th {\n",
              "        vertical-align: top;\n",
              "    }\n",
              "\n",
              "    .dataframe thead th {\n",
              "        text-align: right;\n",
              "    }\n",
              "</style>\n",
              "<table border=\"1\" class=\"dataframe\">\n",
              "  <thead>\n",
              "    <tr style=\"text-align: right;\">\n",
              "      <th></th>\n",
              "      <th>Attr_A</th>\n",
              "      <th>Attr_B</th>\n",
              "      <th>Attr_C</th>\n",
              "      <th>Attr_D</th>\n",
              "      <th>Attr_E</th>\n",
              "      <th>Attr_F</th>\n",
              "      <th>Attr_G</th>\n",
              "      <th>Attr_H</th>\n",
              "      <th>Attr_I</th>\n",
              "      <th>Attr_J</th>\n",
              "      <th>Attr_K</th>\n",
              "      <th>Attr_L</th>\n",
              "      <th>Attr_M</th>\n",
              "      <th>Attr_N</th>\n",
              "      <th>Class</th>\n",
              "    </tr>\n",
              "  </thead>\n",
              "  <tbody>\n",
              "    <tr>\n",
              "      <th>0</th>\n",
              "      <td>12.478064</td>\n",
              "      <td>14.784992</td>\n",
              "      <td>1247.541877</td>\n",
              "      <td>100.962061</td>\n",
              "      <td>52.462177</td>\n",
              "      <td>1089.398211</td>\n",
              "      <td>10.575834</td>\n",
              "      <td>8.375407</td>\n",
              "      <td>10.288159</td>\n",
              "      <td>110.746551</td>\n",
              "      <td>994.367610</td>\n",
              "      <td>9.069350</td>\n",
              "      <td>1027.953917</td>\n",
              "      <td>109.672758</td>\n",
              "      <td>1</td>\n",
              "    </tr>\n",
              "    <tr>\n",
              "      <th>1</th>\n",
              "      <td>8.264345</td>\n",
              "      <td>8.854181</td>\n",
              "      <td>1389.686814</td>\n",
              "      <td>99.526529</td>\n",
              "      <td>65.106526</td>\n",
              "      <td>1186.523399</td>\n",
              "      <td>9.500485</td>\n",
              "      <td>10.088058</td>\n",
              "      <td>9.371983</td>\n",
              "      <td>78.210274</td>\n",
              "      <td>943.089589</td>\n",
              "      <td>9.988919</td>\n",
              "      <td>1120.317724</td>\n",
              "      <td>83.498764</td>\n",
              "      <td>3</td>\n",
              "    </tr>\n",
              "    <tr>\n",
              "      <th>2</th>\n",
              "      <td>9.875571</td>\n",
              "      <td>13.292442</td>\n",
              "      <td>779.077401</td>\n",
              "      <td>123.993772</td>\n",
              "      <td>104.699796</td>\n",
              "      <td>1201.722480</td>\n",
              "      <td>9.545266</td>\n",
              "      <td>14.266238</td>\n",
              "      <td>9.703551</td>\n",
              "      <td>86.252483</td>\n",
              "      <td>1082.989190</td>\n",
              "      <td>10.084217</td>\n",
              "      <td>970.953682</td>\n",
              "      <td>93.557046</td>\n",
              "      <td>2</td>\n",
              "    </tr>\n",
              "    <tr>\n",
              "      <th>3</th>\n",
              "      <td>9.207661</td>\n",
              "      <td>9.346913</td>\n",
              "      <td>965.468523</td>\n",
              "      <td>89.176009</td>\n",
              "      <td>102.628284</td>\n",
              "      <td>743.913507</td>\n",
              "      <td>9.777953</td>\n",
              "      <td>11.613946</td>\n",
              "      <td>8.912059</td>\n",
              "      <td>96.727873</td>\n",
              "      <td>812.800511</td>\n",
              "      <td>8.621781</td>\n",
              "      <td>947.207195</td>\n",
              "      <td>120.890054</td>\n",
              "      <td>3</td>\n",
              "    </tr>\n",
              "    <tr>\n",
              "      <th>4</th>\n",
              "      <td>8.863842</td>\n",
              "      <td>12.542969</td>\n",
              "      <td>1096.386230</td>\n",
              "      <td>106.595385</td>\n",
              "      <td>131.813380</td>\n",
              "      <td>883.059615</td>\n",
              "      <td>10.092974</td>\n",
              "      <td>13.556029</td>\n",
              "      <td>11.649982</td>\n",
              "      <td>21.566576</td>\n",
              "      <td>971.083175</td>\n",
              "      <td>10.072271</td>\n",
              "      <td>1007.583900</td>\n",
              "      <td>149.511979</td>\n",
              "      <td>2</td>\n",
              "    </tr>\n",
              "    <tr>\n",
              "      <th>...</th>\n",
              "      <td>...</td>\n",
              "      <td>...</td>\n",
              "      <td>...</td>\n",
              "      <td>...</td>\n",
              "      <td>...</td>\n",
              "      <td>...</td>\n",
              "      <td>...</td>\n",
              "      <td>...</td>\n",
              "      <td>...</td>\n",
              "      <td>...</td>\n",
              "      <td>...</td>\n",
              "      <td>...</td>\n",
              "      <td>...</td>\n",
              "      <td>...</td>\n",
              "      <td>...</td>\n",
              "    </tr>\n",
              "    <tr>\n",
              "      <th>2293</th>\n",
              "      <td>8.537905</td>\n",
              "      <td>9.384823</td>\n",
              "      <td>1327.744849</td>\n",
              "      <td>105.043442</td>\n",
              "      <td>109.078735</td>\n",
              "      <td>1160.837366</td>\n",
              "      <td>10.054976</td>\n",
              "      <td>6.461691</td>\n",
              "      <td>9.718114</td>\n",
              "      <td>146.371553</td>\n",
              "      <td>1057.578998</td>\n",
              "      <td>9.504676</td>\n",
              "      <td>896.830168</td>\n",
              "      <td>50.119576</td>\n",
              "      <td>1</td>\n",
              "    </tr>\n",
              "    <tr>\n",
              "      <th>2294</th>\n",
              "      <td>10.727881</td>\n",
              "      <td>12.758686</td>\n",
              "      <td>1017.495424</td>\n",
              "      <td>103.388471</td>\n",
              "      <td>65.953337</td>\n",
              "      <td>955.265960</td>\n",
              "      <td>11.040854</td>\n",
              "      <td>5.930806</td>\n",
              "      <td>9.690326</td>\n",
              "      <td>92.318732</td>\n",
              "      <td>960.311986</td>\n",
              "      <td>9.262439</td>\n",
              "      <td>1158.151512</td>\n",
              "      <td>110.854719</td>\n",
              "      <td>1</td>\n",
              "    </tr>\n",
              "    <tr>\n",
              "      <th>2295</th>\n",
              "      <td>9.501612</td>\n",
              "      <td>12.449207</td>\n",
              "      <td>934.067397</td>\n",
              "      <td>94.681564</td>\n",
              "      <td>108.414931</td>\n",
              "      <td>1097.411669</td>\n",
              "      <td>11.379111</td>\n",
              "      <td>12.178924</td>\n",
              "      <td>9.161475</td>\n",
              "      <td>63.980205</td>\n",
              "      <td>972.994510</td>\n",
              "      <td>7.685836</td>\n",
              "      <td>996.569164</td>\n",
              "      <td>89.850887</td>\n",
              "      <td>0</td>\n",
              "    </tr>\n",
              "    <tr>\n",
              "      <th>2296</th>\n",
              "      <td>11.581467</td>\n",
              "      <td>12.024253</td>\n",
              "      <td>1247.894013</td>\n",
              "      <td>95.732086</td>\n",
              "      <td>85.265126</td>\n",
              "      <td>1012.536672</td>\n",
              "      <td>9.972115</td>\n",
              "      <td>9.001799</td>\n",
              "      <td>11.909924</td>\n",
              "      <td>128.966934</td>\n",
              "      <td>927.437658</td>\n",
              "      <td>8.906923</td>\n",
              "      <td>891.006210</td>\n",
              "      <td>93.561794</td>\n",
              "      <td>1</td>\n",
              "    </tr>\n",
              "    <tr>\n",
              "      <th>2297</th>\n",
              "      <td>10.970207</td>\n",
              "      <td>10.507666</td>\n",
              "      <td>1074.743064</td>\n",
              "      <td>90.878067</td>\n",
              "      <td>88.297209</td>\n",
              "      <td>873.712952</td>\n",
              "      <td>8.725803</td>\n",
              "      <td>14.736636</td>\n",
              "      <td>9.540957</td>\n",
              "      <td>64.366739</td>\n",
              "      <td>1052.481370</td>\n",
              "      <td>8.576282</td>\n",
              "      <td>823.674907</td>\n",
              "      <td>69.743754</td>\n",
              "      <td>0</td>\n",
              "    </tr>\n",
              "  </tbody>\n",
              "</table>\n",
              "<p>2298 rows × 15 columns</p>\n",
              "</div>\n",
              "      <button class=\"colab-df-convert\" onclick=\"convertToInteractive('df-65944a12-f179-4a65-89df-a8ba6f7d5afe')\"\n",
              "              title=\"Convert this dataframe to an interactive table.\"\n",
              "              style=\"display:none;\">\n",
              "        \n",
              "  <svg xmlns=\"http://www.w3.org/2000/svg\" height=\"24px\"viewBox=\"0 0 24 24\"\n",
              "       width=\"24px\">\n",
              "    <path d=\"M0 0h24v24H0V0z\" fill=\"none\"/>\n",
              "    <path d=\"M18.56 5.44l.94 2.06.94-2.06 2.06-.94-2.06-.94-.94-2.06-.94 2.06-2.06.94zm-11 1L8.5 8.5l.94-2.06 2.06-.94-2.06-.94L8.5 2.5l-.94 2.06-2.06.94zm10 10l.94 2.06.94-2.06 2.06-.94-2.06-.94-.94-2.06-.94 2.06-2.06.94z\"/><path d=\"M17.41 7.96l-1.37-1.37c-.4-.4-.92-.59-1.43-.59-.52 0-1.04.2-1.43.59L10.3 9.45l-7.72 7.72c-.78.78-.78 2.05 0 2.83L4 21.41c.39.39.9.59 1.41.59.51 0 1.02-.2 1.41-.59l7.78-7.78 2.81-2.81c.8-.78.8-2.07 0-2.86zM5.41 20L4 18.59l7.72-7.72 1.47 1.35L5.41 20z\"/>\n",
              "  </svg>\n",
              "      </button>\n",
              "      \n",
              "  <style>\n",
              "    .colab-df-container {\n",
              "      display:flex;\n",
              "      flex-wrap:wrap;\n",
              "      gap: 12px;\n",
              "    }\n",
              "\n",
              "    .colab-df-convert {\n",
              "      background-color: #E8F0FE;\n",
              "      border: none;\n",
              "      border-radius: 50%;\n",
              "      cursor: pointer;\n",
              "      display: none;\n",
              "      fill: #1967D2;\n",
              "      height: 32px;\n",
              "      padding: 0 0 0 0;\n",
              "      width: 32px;\n",
              "    }\n",
              "\n",
              "    .colab-df-convert:hover {\n",
              "      background-color: #E2EBFA;\n",
              "      box-shadow: 0px 1px 2px rgba(60, 64, 67, 0.3), 0px 1px 3px 1px rgba(60, 64, 67, 0.15);\n",
              "      fill: #174EA6;\n",
              "    }\n",
              "\n",
              "    [theme=dark] .colab-df-convert {\n",
              "      background-color: #3B4455;\n",
              "      fill: #D2E3FC;\n",
              "    }\n",
              "\n",
              "    [theme=dark] .colab-df-convert:hover {\n",
              "      background-color: #434B5C;\n",
              "      box-shadow: 0px 1px 3px 1px rgba(0, 0, 0, 0.15);\n",
              "      filter: drop-shadow(0px 1px 2px rgba(0, 0, 0, 0.3));\n",
              "      fill: #FFFFFF;\n",
              "    }\n",
              "  </style>\n",
              "\n",
              "      <script>\n",
              "        const buttonEl =\n",
              "          document.querySelector('#df-65944a12-f179-4a65-89df-a8ba6f7d5afe button.colab-df-convert');\n",
              "        buttonEl.style.display =\n",
              "          google.colab.kernel.accessAllowed ? 'block' : 'none';\n",
              "\n",
              "        async function convertToInteractive(key) {\n",
              "          const element = document.querySelector('#df-65944a12-f179-4a65-89df-a8ba6f7d5afe');\n",
              "          const dataTable =\n",
              "            await google.colab.kernel.invokeFunction('convertToInteractive',\n",
              "                                                     [key], {});\n",
              "          if (!dataTable) return;\n",
              "\n",
              "          const docLinkHtml = 'Like what you see? Visit the ' +\n",
              "            '<a target=\"_blank\" href=https://colab.research.google.com/notebooks/data_table.ipynb>data table notebook</a>'\n",
              "            + ' to learn more about interactive tables.';\n",
              "          element.innerHTML = '';\n",
              "          dataTable['output_type'] = 'display_data';\n",
              "          await google.colab.output.renderOutput(dataTable, element);\n",
              "          const docLink = document.createElement('div');\n",
              "          docLink.innerHTML = docLinkHtml;\n",
              "          element.appendChild(docLink);\n",
              "        }\n",
              "      </script>\n",
              "    </div>\n",
              "  </div>\n",
              "  "
            ]
          },
          "metadata": {},
          "execution_count": 18
        }
      ],
      "source": [
        "import pandas as pd\n",
        "from google.colab import files\n",
        "uploaded = files.upload()\n",
        "import io\n",
        "df = pd.read_csv(io.StringIO(uploaded['synthetic.csv'].decode('utf-8')))\n",
        "df"
      ]
    },
    {
      "cell_type": "code",
      "source": [
        "print(df[\"Attr_A\"][0])"
      ],
      "metadata": {
        "colab": {
          "base_uri": "https://localhost:8080/"
        },
        "id": "Oh0nIsDg943X",
        "outputId": "3af0a945-cab0-4305-b216-a245e9617135"
      },
      "execution_count": null,
      "outputs": [
        {
          "output_type": "stream",
          "name": "stdout",
          "text": [
            "12.478064498650886\n"
          ]
        }
      ]
    },
    {
      "cell_type": "code",
      "source": [
        "import math as m\n",
        "def entropie(df):\n",
        "  sum=0\n",
        "  nbElements = df.shape [0] \n",
        "  series = df['Class'].value_counts()\n",
        "  for i in series:\n",
        "    proba = i/nbElements\n",
        "    sum -= proba * m.log2(proba)\n",
        "  return -sum"
      ],
      "metadata": {
        "id": "J_0HGmMPsLaF"
      },
      "execution_count": 39,
      "outputs": []
    },
    {
      "cell_type": "code",
      "source": [
        "def Gain(df, partition, P):\n",
        "  taille = df.shape[0]\n",
        "  gain = entropie(df)\n",
        "  for i in range(P):\n",
        "    gain = gain - (len(partition[i])/taille) * entropie(partition[i])\n",
        "  return gain"
      ],
      "metadata": {
        "id": "CM311ie6c1pN"
      },
      "execution_count": 38,
      "outputs": []
    },
    {
      "cell_type": "code",
      "source": [
        "'''def gain(df, a, split_value) : \n",
        "  g = 0\n",
        "  partitions = [None,None]\n",
        "  sorted_data = df.sort_values(by = a, ignore_index=True)\n",
        "  for i in range(0,sorted_data.shape[0]):\n",
        "    if sorted_data[a][i] == split_value : \n",
        "      partitions[0] = sorted_data[:i]\n",
        "      partitions[1] = sorted_data[i:]\n",
        "      g = Gain(df,partitions,len(partitions)) \n",
        "      break\n",
        "  return (-g,partitions)\n",
        "  '''\n",
        "def gain(df, attr, split_value):\n",
        "  e = entropie(df)\n",
        "  gain = 0\n",
        "  partitions = [[], []]\n",
        "  sorted_data = df.sort_values(by = attr).reset_index(drop = True)\n",
        "\n",
        "  for _, row in sorted_data.iterrows():\n",
        "      if (row[attr] < split_value):\n",
        "          partitions[0] += [row]\n",
        "      else:\n",
        "          partitions[1] += [row]\n",
        "\n",
        "  gain = e\n",
        "  for i in range(2):\n",
        "      if partitions[i]:\n",
        "          gain -= (len(partitions[i]) / df.shape[0]) * entropie(pd.DataFrame(partitions[i]))\n",
        "\n",
        "  return (-gain, partitions)"
      ],
      "metadata": {
        "id": "wj5-R17DfAUX"
      },
      "execution_count": 95,
      "outputs": []
    },
    {
      "cell_type": "code",
      "source": [
        "class Noeud(object):\n",
        "  def __init__(self,prediction, attribut=None, nfd = None, nfg =None,split_value = None):\n",
        "    self.attribut = attribut\n",
        "    self.right= nfd\n",
        "    self.left = nfg\n",
        "    self.prediction = prediction\n",
        "    self.split_value = split_value\n",
        "  def feuille(self):\n",
        "    return self.left is None and self.right is None\n",
        "  def resultat(self):\n",
        "    res = ''\n",
        "    for att in self.prediction.index.tolist():\n",
        "      res += \"Classe {}: Count {} \".format(att,self.prediction[att])\n",
        "    return res"
      ],
      "metadata": {
        "id": "_Ho7oIFso9Wv"
      },
      "execution_count": 11,
      "outputs": []
    },
    {
      "cell_type": "code",
      "source": [
        "def Decision_Tree(df,attribut_restant,profondeur,seuil):\n",
        "  g = 0\n",
        "  print(attribut_restant)\n",
        "  pred = df[\"Class\"].value_counts()\n",
        "  for a in attribut_restant:\n",
        "    for i in range(3):\n",
        "      if(i==0):\n",
        "        quartile = df.quantile(q=0.25, axis=0, numeric_only=True, interpolation='linear')[a]\n",
        "      elif(i==1):\n",
        "        quartile = df.quantile(q=0.5, axis=0, numeric_only=True, interpolation='linear')[a]\n",
        "      else:\n",
        "        quartile = df.quantile(q=0.75, axis=0, numeric_only=True, interpolation='linear')[a]\n",
        "      (gainTemp,partitionsTemp) = gain(df,a,quartile)\n",
        "      if(gainTemp > g):\n",
        "        g = gainTemp\n",
        "        attribut = a\n",
        "        split_value = quartile\n",
        "        partitions = partitionsTemp\n",
        "  attribut_restant.remove(attribut)\n",
        "  if attribut_restant == None or profondeur > seuil:\n",
        "    return Noeud(pred)\n",
        "  branche_gauche = Decision_Tree(partitions[0],attribut_restant,profondeur + 1,seuil)\n",
        "  branche_droite = Decision_Tree(partitions[1],attribut_restant,profondeur + 1,seuil)\n",
        "  return Noeud(pred,attribut,branche_droite,branche_gauche,split_value)"
      ],
      "metadata": {
        "id": "skht_8WwrAj9"
      },
      "execution_count": 104,
      "outputs": []
    },
    {
      "cell_type": "code",
      "source": [
        "def print_tree(node, spacing=''):\n",
        "  if node is None:\n",
        "    return\n",
        "  if node.feuille():\n",
        "    print(spacing + node.resultat())\n",
        "    return\n",
        "  print('{}[Attribute: {} Split value: {}]'.format(spacing,node.attribut,node.split_value))\n",
        "\n",
        "  print(spacing + '> True')\n",
        "  print_tree(node.left, spacing + '-')\n",
        "\n",
        "  print(spacing + '> False')\n",
        "  print_tree(node.right, spacing + '-')\n",
        "  return\n"
      ],
      "metadata": {
        "id": "pry9q0lU92LU"
      },
      "execution_count": 83,
      "outputs": []
    },
    {
      "cell_type": "code",
      "source": [
        "r = df.columns.tolist()\n",
        "r.remove(\"Class\")\n",
        "print_tree(Decision_Tree(df,r,0,4))"
      ],
      "metadata": {
        "colab": {
          "base_uri": "https://localhost:8080/",
          "height": 400
        },
        "id": "_-AWIVprCv5w",
        "outputId": "d60925cc-f513-49fb-ac7e-0bc7c94ba80f"
      },
      "execution_count": 105,
      "outputs": [
        {
          "output_type": "stream",
          "name": "stdout",
          "text": [
            "['Attr_A', 'Attr_B', 'Attr_C', 'Attr_D', 'Attr_E', 'Attr_F', 'Attr_G', 'Attr_H', 'Attr_I', 'Attr_J', 'Attr_K', 'Attr_L', 'Attr_M', 'Attr_N']\n",
            "['Attr_A', 'Attr_C', 'Attr_D', 'Attr_E', 'Attr_F', 'Attr_G', 'Attr_H', 'Attr_I', 'Attr_J', 'Attr_K', 'Attr_L', 'Attr_M', 'Attr_N']\n"
          ]
        },
        {
          "output_type": "error",
          "ename": "TypeError",
          "evalue": "ignored",
          "traceback": [
            "\u001b[0;31m---------------------------------------------------------------------------\u001b[0m",
            "\u001b[0;31mTypeError\u001b[0m                                 Traceback (most recent call last)",
            "\u001b[0;32m<ipython-input-105-04854bb3fe8d>\u001b[0m in \u001b[0;36m<module>\u001b[0;34m()\u001b[0m\n\u001b[1;32m      1\u001b[0m \u001b[0mr\u001b[0m \u001b[0;34m=\u001b[0m \u001b[0mdf\u001b[0m\u001b[0;34m.\u001b[0m\u001b[0mcolumns\u001b[0m\u001b[0;34m.\u001b[0m\u001b[0mtolist\u001b[0m\u001b[0;34m(\u001b[0m\u001b[0;34m)\u001b[0m\u001b[0;34m\u001b[0m\u001b[0;34m\u001b[0m\u001b[0m\n\u001b[1;32m      2\u001b[0m \u001b[0mr\u001b[0m\u001b[0;34m.\u001b[0m\u001b[0mremove\u001b[0m\u001b[0;34m(\u001b[0m\u001b[0;34m\"Class\"\u001b[0m\u001b[0;34m)\u001b[0m\u001b[0;34m\u001b[0m\u001b[0;34m\u001b[0m\u001b[0m\n\u001b[0;32m----> 3\u001b[0;31m \u001b[0mprint_tree\u001b[0m\u001b[0;34m(\u001b[0m\u001b[0mDecision_Tree\u001b[0m\u001b[0;34m(\u001b[0m\u001b[0mdf\u001b[0m\u001b[0;34m,\u001b[0m\u001b[0mr\u001b[0m\u001b[0;34m,\u001b[0m\u001b[0;36m0\u001b[0m\u001b[0;34m,\u001b[0m\u001b[0;36m4\u001b[0m\u001b[0;34m)\u001b[0m\u001b[0;34m)\u001b[0m\u001b[0;34m\u001b[0m\u001b[0;34m\u001b[0m\u001b[0m\n\u001b[0m",
            "\u001b[0;32m<ipython-input-104-f6e762ba3a07>\u001b[0m in \u001b[0;36mDecision_Tree\u001b[0;34m(df, attribut_restant, profondeur, seuil)\u001b[0m\n\u001b[1;32m     21\u001b[0m     \u001b[0;32mreturn\u001b[0m \u001b[0mNoeud\u001b[0m\u001b[0;34m(\u001b[0m\u001b[0mpred\u001b[0m\u001b[0;34m)\u001b[0m\u001b[0;34m\u001b[0m\u001b[0;34m\u001b[0m\u001b[0m\n\u001b[1;32m     22\u001b[0m   \u001b[0mremaining_attr\u001b[0m \u001b[0;34m=\u001b[0m \u001b[0;34m[\u001b[0m\u001b[0mx\u001b[0m \u001b[0;32mfor\u001b[0m \u001b[0mx\u001b[0m \u001b[0;32min\u001b[0m \u001b[0mattribut_restant\u001b[0m \u001b[0;32mif\u001b[0m \u001b[0mx\u001b[0m \u001b[0;34m!=\u001b[0m \u001b[0mattribut\u001b[0m\u001b[0;34m]\u001b[0m\u001b[0;34m\u001b[0m\u001b[0;34m\u001b[0m\u001b[0m\n\u001b[0;32m---> 23\u001b[0;31m   \u001b[0mbranche_gauche\u001b[0m \u001b[0;34m=\u001b[0m \u001b[0mDecision_Tree\u001b[0m\u001b[0;34m(\u001b[0m\u001b[0mpartitions\u001b[0m\u001b[0;34m[\u001b[0m\u001b[0;36m0\u001b[0m\u001b[0;34m]\u001b[0m\u001b[0;34m,\u001b[0m\u001b[0mremaining_attr\u001b[0m\u001b[0;34m,\u001b[0m\u001b[0mprofondeur\u001b[0m \u001b[0;34m+\u001b[0m \u001b[0;36m1\u001b[0m\u001b[0;34m,\u001b[0m\u001b[0mseuil\u001b[0m\u001b[0;34m)\u001b[0m\u001b[0;34m\u001b[0m\u001b[0;34m\u001b[0m\u001b[0m\n\u001b[0m\u001b[1;32m     24\u001b[0m   \u001b[0mbranche_droite\u001b[0m \u001b[0;34m=\u001b[0m \u001b[0mDecision_Tree\u001b[0m\u001b[0;34m(\u001b[0m\u001b[0mpartitions\u001b[0m\u001b[0;34m[\u001b[0m\u001b[0;36m1\u001b[0m\u001b[0;34m]\u001b[0m\u001b[0;34m,\u001b[0m\u001b[0mremaining_attr\u001b[0m\u001b[0;34m,\u001b[0m\u001b[0mprofondeur\u001b[0m \u001b[0;34m+\u001b[0m \u001b[0;36m1\u001b[0m\u001b[0;34m,\u001b[0m\u001b[0mseuil\u001b[0m\u001b[0;34m)\u001b[0m\u001b[0;34m\u001b[0m\u001b[0;34m\u001b[0m\u001b[0m\n\u001b[1;32m     25\u001b[0m   \u001b[0;32mreturn\u001b[0m \u001b[0mNoeud\u001b[0m\u001b[0;34m(\u001b[0m\u001b[0mpred\u001b[0m\u001b[0;34m,\u001b[0m\u001b[0mattribut\u001b[0m\u001b[0;34m,\u001b[0m\u001b[0mbranche_droite\u001b[0m\u001b[0;34m,\u001b[0m\u001b[0mbranche_gauche\u001b[0m\u001b[0;34m,\u001b[0m\u001b[0msplit_value\u001b[0m\u001b[0;34m)\u001b[0m\u001b[0;34m\u001b[0m\u001b[0;34m\u001b[0m\u001b[0m\n",
            "\u001b[0;32m<ipython-input-104-f6e762ba3a07>\u001b[0m in \u001b[0;36mDecision_Tree\u001b[0;34m(df, attribut_restant, profondeur, seuil)\u001b[0m\n\u001b[1;32m      2\u001b[0m   \u001b[0mg\u001b[0m \u001b[0;34m=\u001b[0m \u001b[0;36m0\u001b[0m\u001b[0;34m\u001b[0m\u001b[0;34m\u001b[0m\u001b[0m\n\u001b[1;32m      3\u001b[0m   \u001b[0mprint\u001b[0m\u001b[0;34m(\u001b[0m\u001b[0mattribut_restant\u001b[0m\u001b[0;34m)\u001b[0m\u001b[0;34m\u001b[0m\u001b[0;34m\u001b[0m\u001b[0m\n\u001b[0;32m----> 4\u001b[0;31m   \u001b[0mpred\u001b[0m \u001b[0;34m=\u001b[0m \u001b[0mdf\u001b[0m\u001b[0;34m[\u001b[0m\u001b[0;34m\"Class\"\u001b[0m\u001b[0;34m]\u001b[0m\u001b[0;34m.\u001b[0m\u001b[0mvalue_counts\u001b[0m\u001b[0;34m(\u001b[0m\u001b[0;34m)\u001b[0m\u001b[0;34m\u001b[0m\u001b[0;34m\u001b[0m\u001b[0m\n\u001b[0m\u001b[1;32m      5\u001b[0m   \u001b[0;32mfor\u001b[0m \u001b[0ma\u001b[0m \u001b[0;32min\u001b[0m \u001b[0mattribut_restant\u001b[0m\u001b[0;34m:\u001b[0m\u001b[0;34m\u001b[0m\u001b[0;34m\u001b[0m\u001b[0m\n\u001b[1;32m      6\u001b[0m     \u001b[0;32mfor\u001b[0m \u001b[0mi\u001b[0m \u001b[0;32min\u001b[0m \u001b[0mrange\u001b[0m\u001b[0;34m(\u001b[0m\u001b[0;36m3\u001b[0m\u001b[0;34m)\u001b[0m\u001b[0;34m:\u001b[0m\u001b[0;34m\u001b[0m\u001b[0;34m\u001b[0m\u001b[0m\n",
            "\u001b[0;31mTypeError\u001b[0m: list indices must be integers or slices, not str"
          ]
        }
      ]
    },
    {
      "cell_type": "code",
      "source": [
        "lst = []\n",
        "i=0\n",
        "for e in df.columns: \n",
        "  if(e != 'Class'):\n",
        "    split = df.quantile(q=0.25, axis=0, numeric_only=True, interpolation='linear')[i]\n",
        "    (g,p)= gain(df,e,split)\n",
        "    lst.append(g)\n",
        "  i += 1\n",
        "lst"
      ],
      "metadata": {
        "colab": {
          "base_uri": "https://localhost:8080/"
        },
        "id": "UMXPMCU5fy9g",
        "outputId": "e5468544-ffe2-4b38-b229-cbba0dc319c1"
      },
      "execution_count": 42,
      "outputs": [
        {
          "output_type": "execute_result",
          "data": {
            "text/plain": [
              "[0, 0, 0, 0, 0, 0, 0, 0, 0, 0, 0, 0, 0, 0]"
            ]
          },
          "metadata": {},
          "execution_count": 42
        }
      ]
    },
    {
      "cell_type": "code",
      "source": [
        "r = df.columns.tolist()\n",
        "r.remove('Class')\n",
        "print(r)"
      ],
      "metadata": {
        "colab": {
          "base_uri": "https://localhost:8080/"
        },
        "id": "2qd9NhIozA8-",
        "outputId": "bfaaa60f-d553-4fec-c334-fcfeb3d1947a"
      },
      "execution_count": 65,
      "outputs": [
        {
          "output_type": "stream",
          "name": "stdout",
          "text": [
            "['Attr_A', 'Attr_B', 'Attr_C', 'Attr_D', 'Attr_E', 'Attr_F', 'Attr_G', 'Attr_H', 'Attr_I', 'Attr_J', 'Attr_K', 'Attr_L', 'Attr_M', 'Attr_N']\n"
          ]
        }
      ]
    }
  ]
}